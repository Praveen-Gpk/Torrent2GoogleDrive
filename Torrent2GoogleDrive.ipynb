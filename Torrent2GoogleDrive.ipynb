{
  "nbformat": 4,
  "nbformat_minor": 0,
  "metadata": {
    "colab": {
      "name": "Untitled1.ipynb",
      "provenance": []
    },
    "kernelspec": {
      "name": "python3",
      "display_name": "Python 3"
    },
    "accelerator": "GPU"
  },
  "cells": [
    {
      "cell_type": "markdown",
      "metadata": {
        "id": "fFrs7mJBJn5I",
        "colab_type": "text"
      },
      "source": [
        "Turning your GPU ON, increases the download speed"
      ]
    },
    {
      "cell_type": "markdown",
      "metadata": {
        "id": "UUzDAHvBUsFZ",
        "colab_type": "text"
      },
      "source": [
        "# **Mount your Google Drive**"
      ]
    },
    {
      "cell_type": "markdown",
      "metadata": {
        "id": "Df9bfjjTJ-J5",
        "colab_type": "text"
      },
      "source": [
        "You have to mount your google drive.\n",
        "\n",
        "For that you need to give access to the google colab and copy-paste the hash code"
      ]
    },
    {
      "cell_type": "code",
      "metadata": {
        "id": "UAglyVEJKMht",
        "colab_type": "code",
        "colab": {}
      },
      "source": [
        "from google.colab import drive\n",
        "drive.mount('/content/drive')"
      ],
      "execution_count": 0,
      "outputs": []
    },
    {
      "cell_type": "markdown",
      "metadata": {
        "id": "F0eRbFEeNdiy",
        "colab_type": "text"
      },
      "source": [
        "# **Installing libtorrent and starting the new session**"
      ]
    },
    {
      "cell_type": "code",
      "metadata": {
        "id": "9BkVfGGLN3s4",
        "colab_type": "code",
        "colab": {}
      },
      "source": [
        "!apt install python3-libtorrent\n",
        "\n",
        "import libtorrent as lt\n",
        "\n",
        "session = lt.session()\n",
        "session.listen_on(6881,6891)"
      ],
      "execution_count": 0,
      "outputs": []
    },
    {
      "cell_type": "markdown",
      "metadata": {
        "id": "tYUKj1ADOdMO",
        "colab_type": "text"
      },
      "source": [
        "You can either upload the torrent file or paste the magnet link"
      ]
    },
    {
      "cell_type": "markdown",
      "metadata": {
        "id": "yPhTQvLkOxBb",
        "colab_type": "text"
      },
      "source": [
        "## **1. Upload the torrent file**"
      ]
    },
    {
      "cell_type": "code",
      "metadata": {
        "id": "1sp80LhMO7BR",
        "colab_type": "code",
        "colab": {}
      },
      "source": [
        "from google.colab import files\n",
        "\n",
        "source = files.upload()\n",
        "params = {\n",
        "    \"save_path\": \"/content/drive/My Drive/Torrent\",\n",
        "    \"ti\": lt.torrent_info(list(source.keys())[0]),\n",
        "}\n",
        "downloads = session.add_torrent(params)"
      ],
      "execution_count": 0,
      "outputs": []
    },
    {
      "cell_type": "markdown",
      "metadata": {
        "id": "D5BeFPoZPCMl",
        "colab_type": "text"
      },
      "source": [
        "## **2. Pasting the Magnet Link**"
      ]
    },
    {
      "cell_type": "code",
      "metadata": {
        "id": "FvWUh01_PH3f",
        "colab_type": "code",
        "colab": {}
      },
      "source": [
        "params = {\"save_path\": \"/content/drive/My Drive/Torrent\"}\n",
        "magnet_link = input(\"Enter the Magnet Link: \")\n",
        "downloads = lt.add_magnet_uri(session, magnet_link, params)"
      ],
      "execution_count": 0,
      "outputs": []
    },
    {
      "cell_type": "markdown",
      "metadata": {
        "id": "7I5Br86GPlOm",
        "colab_type": "text"
      },
      "source": [
        "# **Begin Downloading...**"
      ]
    },
    {
      "cell_type": "code",
      "metadata": {
        "id": "T3HlqrtoPaE7",
        "colab_type": "code",
        "colab": {}
      },
      "source": [
        "import time,sys\n",
        "\n",
        "while not downloads.is_seed():\n",
        "  state_str = [\n",
        "        \"queued\",\n",
        "        \"checking\",\n",
        "        \"downloading metadata\",\n",
        "        \"downloading\",\n",
        "        \"finished\",\n",
        "        \"seeding\",\n",
        "        \"allocating\",\n",
        "        \"checking fastresume\",\n",
        "  ]\n",
        "  s = downloads.status()\n",
        "  print(\n",
        "        \"\\r%.2f%% complete (down: %.1f kb/s up: %.1f kB/s peers: %d) %s\"\n",
        "        % (\n",
        "            s.progress * 100,\n",
        "            s.download_rate / 1000,\n",
        "            s.upload_rate / 1000,\n",
        "            s.num_peers,\n",
        "            state_str[s.state],\n",
        "        )\n",
        "  )\n",
        "  sys.stdout.flush()\n",
        "  time.sleep(10)\n",
        "  \n",
        "print(\"Download complete!\")"
      ],
      "execution_count": 0,
      "outputs": []
    }
  ]
}